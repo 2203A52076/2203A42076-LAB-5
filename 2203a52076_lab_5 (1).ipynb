{
  "nbformat": 4,
  "nbformat_minor": 0,
  "metadata": {
    "colab": {
      "provenance": []
    },
    "kernelspec": {
      "name": "python3",
      "display_name": "Python 3"
    },
    "language_info": {
      "name": "python"
    }
  },
  "cells": [
    {
      "cell_type": "code",
      "execution_count": null,
      "metadata": {
        "id": "QbuOeCOZjGyy",
        "colab": {
          "base_uri": "https://localhost:8080/"
        },
        "outputId": "3ec0ceec-36e4-4e27-e722-cfbc56be26a8"
      },
      "outputs": [
        {
          "output_type": "stream",
          "name": "stdout",
          "text": [
            "     Age  Gender  Protein1  Protein2  Protein3  Protein4 Tumour_Stage  \\\n",
            "0     42  FEMALE  0.952560   2.15000  0.007972 -0.048340           II   \n",
            "1     54  FEMALE  0.000000   1.38020 -0.498030 -0.507320           II   \n",
            "2     63  FEMALE -0.523030   1.76400 -0.370190  0.010815           II   \n",
            "3     78  FEMALE -0.876180   0.12943 -0.370380  0.132190            I   \n",
            "4     42  FEMALE  0.226110   1.74910 -0.543970 -0.390210           II   \n",
            "..   ...     ...       ...       ...       ...       ...          ...   \n",
            "329   59  FEMALE  0.024598   1.40050  0.024751  0.280320           II   \n",
            "330   41  FEMALE  0.100120  -0.46547  0.472370 -0.523870            I   \n",
            "331   54  FEMALE  0.753820   1.64250 -0.332850  0.857860           II   \n",
            "332   74  FEMALE  0.972510   1.42680 -0.366570 -0.107820           II   \n",
            "333   66  FEMALE  0.286380   1.39980  0.318830  0.836050           II   \n",
            "\n",
            "                          Histology ER status PR status HER2 status  \\\n",
            "0     Infiltrating Ductal Carcinoma  Positive  Positive    Negative   \n",
            "1     Infiltrating Ductal Carcinoma  Positive  Positive    Negative   \n",
            "2     Infiltrating Ductal Carcinoma  Positive  Positive    Negative   \n",
            "3     Infiltrating Ductal Carcinoma  Positive  Positive    Negative   \n",
            "4     Infiltrating Ductal Carcinoma  Positive  Positive    Positive   \n",
            "..                              ...       ...       ...         ...   \n",
            "329   Infiltrating Ductal Carcinoma  Positive  Positive    Positive   \n",
            "330   Infiltrating Ductal Carcinoma  Positive  Positive    Positive   \n",
            "331   Infiltrating Ductal Carcinoma  Positive  Positive    Negative   \n",
            "332  Infiltrating Lobular Carcinoma  Positive  Positive    Negative   \n",
            "333   Infiltrating Ductal Carcinoma  Positive  Positive    Negative   \n",
            "\n",
            "                    Surgery_type Date_of_Surgery Date_of_Last_Visit  \\\n",
            "0                          Other       20-May-18          26-Aug-18   \n",
            "1                          Other       26-Apr-18          25-Jan-19   \n",
            "2                     Lumpectomy       24-Aug-18          08-Apr-20   \n",
            "3                          Other       16-Nov-18          28-Jul-20   \n",
            "4                     Lumpectomy       12-Dec-18          05-Jan-19   \n",
            "..                           ...             ...                ...   \n",
            "329                   Lumpectomy       15-Jan-19          27-Mar-20   \n",
            "330  Modified Radical Mastectomy       25-Jul-18          23-Apr-19   \n",
            "331            Simple Mastectomy       26-Mar-19          11-Oct-19   \n",
            "332                   Lumpectomy       26-Nov-18          05-Dec-18   \n",
            "333  Modified Radical Mastectomy       04-Feb-19          10-Aug-19   \n",
            "\n",
            "    Patient_Status  \n",
            "0            Alive  \n",
            "1             Dead  \n",
            "2            Alive  \n",
            "3            Alive  \n",
            "4            Alive  \n",
            "..             ...  \n",
            "329          Alive  \n",
            "330          Alive  \n",
            "331           Dead  \n",
            "332          Alive  \n",
            "333           Dead  \n",
            "\n",
            "[334 rows x 15 columns]\n"
          ]
        }
      ],
      "source": [
        "import pandas as pd\n",
        "import numpy as np\n",
        "import matplotlib.pyplot as plt\n",
        "z=pd.read_csv(\"/content/archive (10).zip\")\n",
        "print(z)\n",
        "c = [\"Date_of_Surgery\", \"Date_of_Last_Visit\",\"Tumour_Stage\",\"Histology\",\"Surgery_type\",\"Gender\",]\n",
        "x = z.drop(c, axis=1)\n",
        "mapping = {\"Alive\": 1, \"Dead\": 0}\n",
        "x[\"Patient_Status\"] = x[\"Patient_Status\"].map(mapping)\n",
        "y = x[\"Patient_Status\"]\n",
        "x=x.drop(\"Patient_Status\", axis=1)\n",
        "mapp = {\"Positive\": 1, \"Negative\": 0}\n",
        "x[\"ER status\"]=x[\"ER status\"].map(mapp)\n",
        "mapp = {\"Positive\": 1, \"Negative\": 0}\n",
        "x[\"PR status\"]=x[\"PR status\"].map(mapp)\n",
        "mapp = {\"Positive\": 1, \"Negative\": 0}\n",
        "x[\"HER2 status\"]=x[\"HER2 status\"].map(mapp)"
      ]
    },
    {
      "cell_type": "code",
      "source": [
        "x=x.drop(\"ER status\",axis=1)\n",
        "x=x.drop(\"PR status\",axis=1)\n",
        "print(x)\n",
        "print(y)"
      ],
      "metadata": {
        "colab": {
          "base_uri": "https://localhost:8080/"
        },
        "id": "lZoJxgkuv9XB",
        "outputId": "ce9da6e1-de4e-442d-f2fc-91398a58deba"
      },
      "execution_count": null,
      "outputs": [
        {
          "output_type": "stream",
          "name": "stdout",
          "text": [
            "     Age  Protein1  Protein2  Protein3  Protein4  HER2 status\n",
            "0     42  0.952560   2.15000  0.007972 -0.048340            0\n",
            "1     54  0.000000   1.38020 -0.498030 -0.507320            0\n",
            "2     63 -0.523030   1.76400 -0.370190  0.010815            0\n",
            "3     78 -0.876180   0.12943 -0.370380  0.132190            0\n",
            "4     42  0.226110   1.74910 -0.543970 -0.390210            1\n",
            "..   ...       ...       ...       ...       ...          ...\n",
            "329   59  0.024598   1.40050  0.024751  0.280320            1\n",
            "330   41  0.100120  -0.46547  0.472370 -0.523870            1\n",
            "331   54  0.753820   1.64250 -0.332850  0.857860            0\n",
            "332   74  0.972510   1.42680 -0.366570 -0.107820            0\n",
            "333   66  0.286380   1.39980  0.318830  0.836050            0\n",
            "\n",
            "[334 rows x 6 columns]\n",
            "0      1.0\n",
            "1      0.0\n",
            "2      1.0\n",
            "3      1.0\n",
            "4      1.0\n",
            "      ... \n",
            "329    1.0\n",
            "330    1.0\n",
            "331    0.0\n",
            "332    1.0\n",
            "333    0.0\n",
            "Name: Patient_Status, Length: 334, dtype: float64\n"
          ]
        }
      ]
    },
    {
      "cell_type": "markdown",
      "source": [],
      "metadata": {
        "id": "teop9g6s0hwP"
      }
    },
    {
      "cell_type": "code",
      "source": [
        "import numpy as np\n",
        "def sigmoid(z):\n",
        "    return 1 / (1 + np.exp(-z))\n",
        "x_bias = np.c_[np.ones((x.shape[0], 1)), x]\n",
        "num_iterations = 1000\n",
        "learning_rate = 0.01\n",
        "num_samples, num_features = x_bias.shape\n",
        "weights = np.zeros(num_features)\n",
        "for _ in range(num_iterations):\n",
        "    linear_model = np.dot(x_bias, weights)\n",
        "    predictions = sigmoid(linear_model)\n",
        "    gradient = np.dot(x_bias.T, (predictions - y)) / num_samples\n",
        "    weights -= learning_rate * gradient\n",
        "final_predictions = sigmoid(np.dot(x_bias, weights))\n",
        "final_predictions = (final_predictions > 0.5).astype(int)\n",
        "accuracy = np.mean(final_predictions == y)\n",
        "print(f\"Accuracy: {accuracy:.2f}\")\n"
      ],
      "metadata": {
        "colab": {
          "base_uri": "https://localhost:8080/"
        },
        "id": "w10q5Ce-zWkL",
        "outputId": "0bb98de8-a88c-4520-c147-fa0229ca18f8"
      },
      "execution_count": null,
      "outputs": [
        {
          "output_type": "stream",
          "name": "stdout",
          "text": [
            "Accuracy: 0.20\n"
          ]
        }
      ]
    },
    {
      "cell_type": "code",
      "source": [
        "import numpy as np\n",
        "import pandas as pd\n",
        "import matplotlib.pyplot as plt\n",
        "from sklearn.preprocessing import MinMaxScaler\n",
        "from sklearn.model_selection import train_test_split\n",
        "from sklearn.linear_model import LogisticRegression\n",
        "from sklearn.metrics import accuracy_score\n",
        "def logistic_regression(data):\n",
        "    data['Patient_Status'] = data['Patient_Status'].map({'Alive': 1, 'Dead': 0})\n",
        "    data['HER2 status'] = data['HER2 status'].map({'Positive': 1, 'Negative': 0})\n",
        "    data = data.fillna(data.mean())\n",
        "    columns_to_drop = ['Surgery_type', 'Date_of_Surgery', 'Date_of_Last_Visit', 'Histology', 'Tumour_Stage', 'Gender','ER status','PR status']\n",
        "    data = data.drop(columns=columns_to_drop)\n",
        "    if data['Patient_Status'].isnull().sum() > 0:\n",
        "        raise ValueError(\"NaNs found in the target variable.\")\n",
        "    features = data.drop(\"Patient_Status\", axis=1)\n",
        "    target = data[\"Patient_Status\"].astype(int)\n",
        "    x_train, x_test, y_train, y_test = train_test_split(features, target, test_size=0.2, random_state=42)\n",
        "    logistic_reg = LogisticRegression()\n",
        "    logistic_reg.fit(x_train, y_train)\n",
        "    y_pred = logistic_reg.predict(x_test)\n",
        "    accuracy = accuracy_score(y_test, y_pred)\n",
        "    print(\"Accuracy:\", accuracy)\n",
        "data = pd.read_csv(\"/content/archive (10).zip\")\n",
        "logistic_regression(data)"
      ],
      "metadata": {
        "colab": {
          "base_uri": "https://localhost:8080/"
        },
        "id": "vNcoPCg46pq9",
        "outputId": "033992db-79c1-44bc-9c2e-85262d99e6f6"
      },
      "execution_count": null,
      "outputs": [
        {
          "output_type": "stream",
          "name": "stdout",
          "text": [
            "Accuracy: 0.7761194029850746\n"
          ]
        },
        {
          "output_type": "stream",
          "name": "stderr",
          "text": [
            "<ipython-input-7-34cc1ee154cf>:11: FutureWarning: The default value of numeric_only in DataFrame.mean is deprecated. In a future version, it will default to False. In addition, specifying 'numeric_only=None' is deprecated. Select only valid columns or specify the value of numeric_only to silence this warning.\n",
            "  data = data.fillna(data.mean())\n"
          ]
        }
      ]
    }
  ]
}